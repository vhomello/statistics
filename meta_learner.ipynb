{
 "cells": [
  {
   "cell_type": "markdown",
   "metadata": {},
   "source": [
    "# Meta Learner"
   ]
  },
  {
   "cell_type": "markdown",
   "metadata": {},
   "source": [
    "1. Estimate the average outcomes $\\mu(x)$\n",
    "$$\n",
    "\\mu(x,w) = \\mathnormal{E}[Y | X=x, W=w]\n",
    "$$\n",
    "2. Define CATE estimate as:\n",
    "$$\n",
    "\\tau(x) = \\mu(x, W=1) - \\mu(x, W=0)\n",
    "$$"
   ]
  },
  {
   "cell_type": "markdown",
   "metadata": {},
   "source": [
    "Reference:\n",
    "1. https://causalml.readthedocs.io/en/latest/methodology.html#s-learner"
   ]
  },
  {
   "cell_type": "code",
   "execution_count": null,
   "metadata": {},
   "outputs": [],
   "source": []
  }
 ],
 "metadata": {
  "language_info": {
   "name": "python"
  }
 },
 "nbformat": 4,
 "nbformat_minor": 2
}
