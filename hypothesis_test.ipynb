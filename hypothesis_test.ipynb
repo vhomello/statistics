{
 "cells": [
  {
   "cell_type": "markdown",
   "metadata": {},
   "source": [
    "# Sample Size - Two Sample one-sided z-test\n",
    "\n",
    "Example\n",
    "\n",
    "1. One Side\n",
    "\n",
    "$\n",
    "\\begin{aligned}\n",
    "&H_0 : \\mu \\leq 0 \\\\\n",
    "&H_a : \\mu > \\theta\n",
    "\\end{aligned}\n",
    "$ or $\n",
    "\\begin{aligned}\n",
    "&H_0 : \\mu \\geq 0 \\\\\n",
    "&H_a : \\mu < \\theta\n",
    "\\end{aligned}\n",
    "$\n",
    "\n",
    "2. Two Side\n",
    "\n",
    "$\n",
    "\\begin{aligned}\n",
    "&H_0 : \\mu = 0 \\\\\n",
    "&H_a : \\mu \\not = \\theta\n",
    "\\end{aligned}\n",
    "$\n",
    "\n",
    "|Null hypothesis is|True|False|\n",
    "|-|-|-|\n",
    "|Rejected| Type I Error <br> False Positive <br> Probability = $\\alpha$| Correct Decision <br> Power <br> True Positive <br> Probability = 1- $\\beta$|\n",
    "|Not Rejected| Correct Decision <br> True Negative <br> Probability = 1- $\\alpha$ | Type II Error <br> False Negative <br> Probability = $\\beta$|"
   ]
  },
  {
   "cell_type": "markdown",
   "metadata": {},
   "source": [
    "## Level 0 - Equation"
   ]
  },
  {
   "cell_type": "markdown",
   "metadata": {},
   "source": [
    "$$\n",
    "N \\geq \\frac{2\\sigma^2(Z_{1-\\alpha}+Z_{1-\\beta})^2}{\\theta}\n",
    "$$\n",
    "\n",
    "where,\n",
    "- N: minimum required sample size\n",
    "- Significance Level, type I error, false positive: $\\alpha$\n",
    "- Type II error, false negative: $\\beta$\n",
    "- Power: $1-\\beta$\n",
    "- Minimum detectable effect: $\\theta$"
   ]
  },
  {
   "cell_type": "markdown",
   "metadata": {},
   "source": [
    "## Level X - Deduction using Chart"
   ]
  },
  {
   "cell_type": "code",
   "execution_count": 1,
   "metadata": {},
   "outputs": [],
   "source": [
    "import numpy as np"
   ]
  },
  {
   "cell_type": "markdown",
   "metadata": {},
   "source": [
    "## Level X - Deduction using equation"
   ]
  },
  {
   "cell_type": "markdown",
   "metadata": {},
   "source": [
    "*Naive approche*\n",
    "\n",
    "- Type I error should be lower than $\\alpha$\n",
    "- Type I error $= P(\\text{reject } H_0 | H_0 \\text{ is true})$\n",
    "\n",
    "\n",
    "$$\n",
    "\\begin{align*}\n",
    "P(X_d \\geq x_d | H_0 \\text{ is true}) &\\leq P(X_d \\geq x_{\\text{crit}} | H_0 \\text{ is true})\\\\\n",
    "P(X_d \\geq x_d | H_0 \\text{ is true}) &\\leq \\alpha\n",
    "\\end{align*}\n",
    "$$\n",
    "\n",
    "$$\n",
    "X_d = X_2 - X_1 \\sim N(\\mu_2 - \\mu_1, \\frac{2\\sigma^2}{N}) \\text{ (central limit theorem)}\n",
    "$$\n",
    "\n",
    "$$\n",
    "\\begin{align*}\n",
    "P(X_d \\geq x_d | H_0 \\text{ is true}) &= P(\\frac{X_d - \\mu_{X_d}}{\\sigma_{X_d}} \\geq \\frac{x_d - \\mu_{X_d}}{\\sigma_{X_d}})\\\\\n",
    "&= P(Z \\geq \\frac{x_d - (\\mu_2 - \\mu_1)}{\\sqrt{\\frac{2\\sigma^2}{N}}}), H_0: \\mu_2 - \\mu_1 = 0 \\\\\n",
    "&= P(Z \\geq z_{x_d|H_0}) \\\\\n",
    "P(Z \\geq z_{x_d|H_0}) &\\leq \\alpha \\\\\n",
    "\\frac{x_d - (\\mu_2 - \\mu_1)}{\\sqrt{\\frac{2\\sigma^2}{N}}} &\\geq z_{1-\\alpha} \\\\\n",
    "N &\\geq \\frac{2\\sigma^2z_{1-\\alpha}^2}{x_d^2}\n",
    "\\end{align*}\n",
    "$$\n"
   ]
  },
  {
   "cell_type": "markdown",
   "metadata": {},
   "source": [
    "- In order to control type II error, it should be lower than $\\beta$, we considering that the test should have the power to reject corretly the null hypothesis with probability great or equal to $1-\\beta$\n",
    "\n",
    "$$\n",
    "\\begin{align*}\n",
    "P(\\text{reject } H_0 | H_0\\text{ is false}) &\\geq 1 - \\beta \\\\\n",
    "P(\\text{reject } H_0 | H_0\\text{ is false}) &= P(X_d > x_c) \\\\\n",
    "&= P(\\frac{X_d - \\mu}{\\sigma} > z_{1-\\alpha}) \\\\\n",
    "&= P(Z > \\frac{ \\sigma * z_{1-\\alpha} - \\mu}{\\sigma}) \\\\\n",
    "&= P(Z > z_{1-\\alpha} - \\frac{\\mu}{\\sigma}) \\\\\n",
    "\n",
    "P(Z > z_{1-\\alpha} - \\frac{\\mu}{\\sigma}) &\\geq 1 - \\beta; \\text{CDF: } \\phi(z) = P(Z \\leq z) \\\\\n",
    "1- \\phi(z_{1-\\alpha} - \\frac{\\mu}{\\sigma}) &\\geq 1 - \\phi(-z_{\\beta}) \\\\\n",
    "z_{1-\\alpha} - \\frac{\\mu}{\\sigma} &\\geq -z_{\\beta}; \\mu = \\mu_2 - \\mu_1; \\sigma = \\sqrt{\\frac{2\\sigma^2}{N}} \\\\\n",
    "z_{1-\\alpha} - \\frac{\\mu_2 - \\mu_1}{\\sqrt{\\frac{2\\sigma^2}{N}}} &\\geq -z_{\\beta} \\\\\n",
    "N &\\geq \\frac{2\\sigma^2(Z_{1-\\alpha}+Z_{1-\\beta})^2}{\\mu_2 - \\mu_1}\n",
    "\\end{align*}\n",
    "$$"
   ]
  },
  {
   "cell_type": "code",
   "execution_count": null,
   "metadata": {},
   "outputs": [],
   "source": []
  }
 ],
 "metadata": {
  "kernelspec": {
   "display_name": "random",
   "language": "python",
   "name": "python3"
  },
  "language_info": {
   "codemirror_mode": {
    "name": "ipython",
    "version": 3
   },
   "file_extension": ".py",
   "mimetype": "text/x-python",
   "name": "python",
   "nbconvert_exporter": "python",
   "pygments_lexer": "ipython3",
   "version": "3.8.19"
  }
 },
 "nbformat": 4,
 "nbformat_minor": 2
}
