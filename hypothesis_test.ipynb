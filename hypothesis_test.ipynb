{
 "cells": [
  {
   "cell_type": "markdown",
   "metadata": {},
   "source": [
    "# Sample Size - Two Sample one-sided z-test\n",
    "\n",
    "Example\n",
    "\n",
    "1. One Side\n",
    "\n",
    "$\n",
    "\\begin{aligned}\n",
    "&H_0 : \\mu \\leq 0 \\\\\n",
    "&H_a : \\mu > \\theta\n",
    "\\end{aligned}\n",
    "$ or $\n",
    "\\begin{aligned}\n",
    "&H_0 : \\mu \\geq 0 \\\\\n",
    "&H_a : \\mu < \\theta\n",
    "\\end{aligned}\n",
    "$\n",
    "\n",
    "2. Two Side\n",
    "\n",
    "$\n",
    "\\begin{aligned}\n",
    "&H_0 : \\mu = 0 \\\\\n",
    "&H_a : \\mu \\not = \\theta\n",
    "\\end{aligned}\n",
    "$\n",
    "\n",
    "|Null hypothesis is|True|False|\n",
    "|-|-|-|\n",
    "|Rejected| Type I Error <br> False Positive <br> Probability = $\\alpha$| Correct Decision <br> Power <br> True Positive <br> Probability = 1- $\\beta$|\n",
    "|Not Rejected| Correct Decision <br> True Negative <br> Probability = 1- $\\alpha$ | Type II Error <br> False Negative <br> Probability = $\\beta$|"
   ]
  },
  {
   "cell_type": "markdown",
   "metadata": {},
   "source": [
    "## Level 0 - Equation"
   ]
  },
  {
   "cell_type": "markdown",
   "metadata": {},
   "source": [
    "$$\n",
    "N \\geq \\frac{\\sigma^2(Z_{1-\\alpha}+Z_{1-\\beta})^2}{\\delta}\n",
    "$$\n",
    "\n",
    "where,\n",
    "- N: minimum required sample size\n",
    "- Significance Level, type I error, false positive: $\\alpha$\n",
    "- Type II error, false negative: $\\beta$\n",
    "- Power: $1-\\beta$\n",
    "- Minimum detectable effect: $\\delta$"
   ]
  },
  {
   "cell_type": "markdown",
   "metadata": {},
   "source": [
    "## Level X - Deduction using Chart"
   ]
  },
  {
   "cell_type": "code",
   "execution_count": 28,
   "metadata": {},
   "outputs": [],
   "source": [
    "import numpy as np\n",
    "import seaborn as sns\n",
    "import matplotlib.pyplot as plt\n",
    "from scipy import stats\n",
    "\n",
    "sns.set_theme()"
   ]
  },
  {
   "cell_type": "code",
   "execution_count": null,
   "metadata": {},
   "outputs": [
    {
     "data": {
      "text/plain": [
       "(0.0, 536.55)"
      ]
     },
     "execution_count": 35,
     "metadata": {},
     "output_type": "execute_result"
    },
    {
     "data": {
      "image/png": "[encoded data removed]",
      "text/plain": [
       "<Figure size 640x480 with 1 Axes>"
      ]
     },
     "metadata": {},
     "output_type": "display_data"
    }
   ],
   "source": [
    "# Test One Sample X Fixed value\n",
    "### Example\n",
    "# X ~ N(0.5,1)\n",
    "# H0: X=0\n",
    "# H1: X>0\n",
    "\n",
    "mean = 0.5\n",
    "stddev = 1\n",
    "size = 10000\n",
    "X = np.random.normal(loc=mean, scale=stddev, size=size)\n",
    "H1 = 0\n",
    "\n",
    "\n",
    "# Plot Distribution\n",
    "_, ax = plt.subplots()\n",
    "sns.histplot(X, ax=ax)\n",
    "ymin, ymax = ax.get_ylim()\n",
    "# Hypothesis line\n",
    "plt.vlines(x=H1, ymin=ymin, ymax=ymax, color='black')\n",
    "text_x = H1\n",
    "text_y = (ymin + ymax) / 2\n",
    "plt.text(\n",
    "    text_x, text_y, f'H0: μ = {H1}', color='black', rotation=90,\n",
    "    ha='right', va='center', fontsize=10\n",
    ")\n",
    "\n",
    "\n",
    "# Plot Hypotesis Test Tail\n",
    "y = stats.norm.ppf(0.95, loc=mean, scale=stddev)\n",
    "plt.vlines(x=y, ymin=ymin, ymax=ymax, color='orange', linestyles='--')\n",
    "plt.text(\n",
    "    y, text_y, f'ppf_95 = {y:.4f}', color='black', rotation=90,\n",
    "    ha='right', va='center', fontsize=10\n",
    ")\n",
    "\n",
    "ax.set_ylim(ymin, ymax)\n",
    "\n",
    "# Calculate p-value\n",
    "# Given H0 is true\n"
   ]
  },
  {
   "cell_type": "code",
   "execution_count": null,
   "metadata": {},
   "outputs": [],
   "source": [
    "# Error type I\n",
    "# P(X>x|H_0) < P(X>x_c|H_0)\n"
   ]
  },
  {
   "cell_type": "markdown",
   "metadata": {},
   "source": [
    "## Level X - Deduction using equation"
   ]
  },
  {
   "cell_type": "markdown",
   "metadata": {},
   "source": [
    "*Naive approche*\n",
    "\n",
    "- Type I error should be lower than $\\alpha$\n",
    "- Type I error $= P(\\text{reject } H_0 | H_0 \\text{ is true})$\n",
    "\n",
    "\n",
    "$$\n",
    "\\begin{align*}\n",
    "P(X_d \\geq x_d | H_0 \\text{ is true}) &\\leq P(X_d \\geq x_{\\text{crit}} | H_0 \\text{ is true})\\\\\n",
    "P(X_d \\geq x_d | H_0 \\text{ is true}) &\\leq \\alpha\n",
    "\\end{align*}\n",
    "$$\n",
    "\n",
    "$$\n",
    "X_d \\sim N(\\mu, \\frac{\\sigma^2}{N}) \\text{ (central limit theorem)}\n",
    "$$\n",
    "\n",
    "$$\n",
    "\\begin{align*}\n",
    "P(X_d \\geq x_d | H_0 \\text{ is true}) &= P(\\frac{X_d - \\mu_{X_d}}{\\sigma_{X_d}} \\geq \\frac{x_d - \\mu_{X_d}}{\\sigma_{X_d}})\\\\\n",
    "&= P(Z \\geq \\frac{x_d - \\mu}{\\sqrt{\\frac{\\sigma^2}{N}}}), H_0: \\mu = 0 \\\\\n",
    "&= P(Z \\geq z_{x_d|H_0}) \\\\\n",
    "P(Z \\geq z_{x_d|H_0}) &\\leq \\alpha \\\\\n",
    "\\frac{x_d - \\mu}{\\sqrt{\\frac{\\sigma^2}{N}}} &\\geq z_{1-\\alpha} \\\\\n",
    "N &\\geq \\frac{\\sigma^2z_{1-\\alpha}^2}{x_d^2}\n",
    "\\end{align*}\n",
    "$$\n"
   ]
  },
  {
   "cell_type": "markdown",
   "metadata": {},
   "source": [
    "- In order to control type II error, it should be lower than $\\beta$, we considering that the test should have the power to reject corretly the null hypothesis with probability great or equal to $1-\\beta$\n",
    "\n",
    "$$\n",
    "\\begin{align*}\n",
    "P(\\text{reject } H_0 | H_0\\text{ is false}) &\\geq 1 - \\beta \\\\\n",
    "P(\\text{reject } H_0 | H_0\\text{ is false}) &= P(X_d > x_c) \\\\\n",
    "&= P(\\frac{X_d - \\mu}{\\sigma} > z_{1-\\alpha}) \\\\\n",
    "&= P(Z > \\frac{ \\sigma * z_{1-\\alpha} - \\mu}{\\sigma}) \\\\\n",
    "&= P(Z > z_{1-\\alpha} - \\frac{\\mu}{\\sigma}) \\\\\n",
    "\n",
    "P(Z > z_{1-\\alpha} - \\frac{\\mu}{\\sigma}) &\\geq 1 - \\beta; \\text{CDF: } \\phi(z) = P(Z \\leq z) \\\\\n",
    "1- \\phi(z_{1-\\alpha} - \\frac{\\mu}{\\sigma}) &\\geq 1 - \\phi(-z_{\\beta}) \\\\\n",
    "z_{1-\\alpha} - \\frac{\\mu}{\\sigma} &\\geq -z_{\\beta}; \\mu = \\mu_2 - \\mu_1; \\sigma = \\sqrt{\\frac{\\sigma^2}{N}} \\\\\n",
    "z_{1-\\alpha} - \\frac{\\mu}{\\sqrt{\\frac{\\sigma^2}{N}}} &\\geq -z_{\\beta} \\\\\n",
    "N &\\geq \\frac{\\sigma^2(Z_{1-\\alpha}+Z_{1-\\beta})^2}{\\mu}\n",
    "\\end{align*}\n",
    "$$"
   ]
  },
  {
   "cell_type": "code",
   "execution_count": null,
   "metadata": {},
   "outputs": [],
   "source": []
  }
 ],
 "metadata": {
  "kernelspec": {
   "display_name": "random",
   "language": "python",
   "name": "python3"
  },
  "language_info": {
   "codemirror_mode": {
    "name": "ipython",
    "version": 3
   },
   "file_extension": ".py",
   "mimetype": "text/x-python",
   "name": "python",
   "nbconvert_exporter": "python",
   "pygments_lexer": "ipython3",
   "version": "3.10.15"
  }
 },
 "nbformat": 4,
 "nbformat_minor": 2
}
